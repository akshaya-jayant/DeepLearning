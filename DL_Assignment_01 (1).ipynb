{
  "nbformat": 4,
  "nbformat_minor": 0,
  "metadata": {
    "colab": {
      "provenance": [],
      "collapsed_sections": [
        "3lammv9QCr78",
        "Sb0w8cl1FhqG",
        "0WLNOvtEIXyZ"
      ]
    },
    "kernelspec": {
      "name": "python3",
      "display_name": "Python 3"
    },
    "language_info": {
      "name": "python"
    }
  },
  "cells": [
    {
      "cell_type": "markdown",
      "source": [
        "<h1><center>IST 597 Foundations of Deep Learning</center></h1>\n",
        "\n",
        "---\n",
        "\n",
        "<h2><center>Assignment 01</center><h2>\n",
        "\n",
        "**Instructor** : Dr. C. Lee Giles <br>\n",
        "**TA** : Neisarg Dave, Shaurya Rohatgi\n",
        "<br><br>\n",
        "\n",
        "Credits: Thanks and credits to materials from UCL and GeorgiaTech\n",
        "\n",
        "<h3>Course Policy<h3>\n",
        "\n",
        "Carefully read all the instructions, before you start working on the assignment\n",
        "\n",
        "* Give maximum explanation for each sub-problems.\n",
        "\n",
        "* Assignments are due before class at Monday 05:59:59 pm. Please check the due date on the official course webportalg Portal.\n",
        "\n",
        "* Please avoid single line answers, submissions without any explanations would receive 0 points.\n",
        "\n",
        "* Late submissions will be graded with 20% discount per day. Day 1 starts immediately after the submission deadline.\n",
        "\n",
        "* Every assignment has a hard deadline, usually 3 days past the original due date, i.e. Thursday after the due Monday\n",
        "\n",
        "* Late submissions (penalty or not) are not accepted after the hard deadline.\n",
        "\n",
        "* All source materials must be cited. The University Academic Code of Conduct will be strictly enforced.\n",
        "\n",
        "* We will be creating Canvas submission page for this. Submit all files on Canvas.\n",
        "\n",
        "* All queries related to Assignment should have a subject line *IST597:Assignment_01 Queries*\n",
        "\n",
        "---\n",
        "\n"
      ],
      "metadata": {
        "id": "FU6cmR_6HtW0"
      }
    },
    {
      "cell_type": "code",
      "source": [
        "#@\n",
        "Name = \"Akshaya Jayant Patil\"#@param {type:\"string\"}\n",
        "PSU_ID = \"935348113\"#@param {type:\"string\"}"
      ],
      "metadata": {
        "cellView": "form",
        "id": "0FsSyWIwJTK9"
      },
      "execution_count": null,
      "outputs": []
    },
    {
      "cell_type": "markdown",
      "source": [
        "### Problem 1\n",
        "--------------\n",
        "\n",
        "Let $ \\ T:\\mathbb{R}^3 \\rightarrow \\mathbb{R}^4$ be defined by \\\n",
        "$$ Tx = \\begin{bmatrix}\n",
        "x_1 - 3x_3 \\\\\n",
        "x_1+x_2 -6x_3 \\\\\n",
        "x_2-3x_3 \\\\\n",
        "x_1 - 3x_3\n",
        "\\end{bmatrix} $$\n",
        "\n",
        "for every $x = \\begin{bmatrix} x_1 \\\\ x_2 \\\\ x_3 \\end{bmatrix} \\in \\mathbb{R}^3$ Then, \n"
      ],
      "metadata": {
        "id": "3lammv9QCr78"
      }
    },
    {
      "cell_type": "markdown",
      "source": [
        "1) Write $\\ T$ in matrix form.\n"
      ],
      "metadata": {
        "id": "aqo0DGm6EWHr"
      }
    },
    {
      "cell_type": "markdown",
      "source": [
        "*answer* : \n",
        "> Given: \n",
        ">>-> $𝑇: ℝ^3 → ℝ^4$\n",
        "\n",
        ">>-> $ Tx =  \n",
        "\\begin{bmatrix}\n",
        "x_1 - 3x_3 \\\\\n",
        "x_1 + x_2 - 6x_3 \\\\\n",
        "x_2 - 3x_3 \\\\\n",
        "x_1 - 3x_3 \\\\\n",
        "\\end{bmatrix}$\n",
        "\n",
        ">>->  $x = \\begin{bmatrix}\n",
        "  x_1 \\\\\n",
        "  x_2 \\\\\n",
        "  x_3 \\\\\n",
        "  \\end{bmatrix}\n",
        "  \\in  ℝ^3$\n",
        "\n",
        ">Therefore,\n",
        "\n",
        ">>  $ T   \n",
        "  \\begin{bmatrix}\n",
        "  x_1 \\\\\n",
        "  x_2 \\\\\n",
        "  x_3 \\\\\n",
        "  \\end{bmatrix}_{3,1}\n",
        "  =  \n",
        "  \\begin{bmatrix}\n",
        "  x_1 - 3x_3 \\\\\n",
        "  x_1 + x_2 - 6x_3 \\\\\n",
        "  x_2 - 3x_3 \\\\\n",
        "  x_1 - 3x_3 \\\\\n",
        "  \\end{bmatrix}_{4,1}$\n",
        "\n",
        ">As per the matrix multiplication rule, T matrix must be of size 4 x 3\n",
        "\n",
        ">>$ x_1 \n",
        "\\begin{bmatrix}\n",
        " \\cdots \\\\\n",
        " \\cdots \\\\\n",
        " \\cdots \\\\\n",
        " \\cdots \\\\\n",
        " \\end{bmatrix}\n",
        " +x_2 \n",
        "\\begin{bmatrix}\n",
        " \\cdots \\\\\n",
        " \\cdots \\\\\n",
        " \\cdots \\\\\n",
        " \\cdots \\\\\n",
        " \\end{bmatrix}\n",
        " +\n",
        " x_3 \n",
        "\\begin{bmatrix}\n",
        " \\cdots \\\\\n",
        " \\cdots \\\\\n",
        " \\cdots \\\\\n",
        " \\cdots \\\\\n",
        " \\end{bmatrix}\n",
        " =\n",
        " \\begin{bmatrix}\n",
        "  x_1 - 3x_3 \\\\\n",
        "  x_1 + x_2 - 6x_3 \\\\\n",
        "  x_2 - 3x_3 \\\\\n",
        "  x_1 - 3x_3 \\\\\n",
        "  \\end{bmatrix}$\n",
        "\n",
        ">By comparing coefficients,\n",
        "\n",
        ">>$ x_1 \n",
        "\\begin{bmatrix}\n",
        " 1 \\\\\n",
        " 1 \\\\\n",
        " 0 \\\\\n",
        " 1 \\\\\n",
        " \\end{bmatrix}\n",
        " +x_2 \n",
        "\\begin{bmatrix}\n",
        " 0 \\\\\n",
        " 1 \\\\\n",
        " 1 \\\\\n",
        " 0 \\\\\n",
        " \\end{bmatrix}\n",
        " +\n",
        " x_3 \n",
        "\\begin{bmatrix}\n",
        " -3 \\\\\n",
        " -6 \\\\\n",
        " -3 \\\\\n",
        " -3 \\\\\n",
        " \\end{bmatrix}\n",
        " =\n",
        " \\begin{bmatrix}\n",
        "  x_1 - 3x_3 \\\\\n",
        "  x_1 + x_2 - 6x_3 \\\\\n",
        "  x_2 - 3x_3 \\\\\n",
        "  x_1 - 3x_3 \\\\\n",
        "  \\end{bmatrix}$\n",
        "\n",
        ">**Final Answer:**\n",
        "\n",
        ">>>$ T = \n",
        " \\begin{bmatrix}\n",
        " 1 & 0 & -3 \\\\\n",
        " 1 & 1 & -6 \\\\\n",
        " 0 & 1 & -3 \\\\\n",
        " 1 & 0 & -3 \\\\\n",
        "\\end{bmatrix}$"
      ],
      "metadata": {
        "id": "L0sXsjp9EpEh"
      }
    },
    {
      "cell_type": "markdown",
      "source": [
        "2) $T(3, -2, 4)$ "
      ],
      "metadata": {
        "id": "XOVN3ALeEwYi"
      }
    },
    {
      "cell_type": "markdown",
      "source": [
        "*answer* : \n",
        "\n",
        ">Given\n",
        ">>$x = \\begin{bmatrix}\n",
        "  x_1 \\\\\n",
        "  x_2 \\\\\n",
        "  x_3 \\\\\n",
        "  \\end{bmatrix} \\in ℝ^3$\n",
        "\n",
        ">>Therefore, $x_1= 3, x_2= -2, x_3= 4$\n",
        "\n",
        ">$T(3,-2,4) =   \n",
        "  \\begin{bmatrix}\n",
        "  x_1 - 3x_3 \\\\\n",
        "  x_1 + x_2 - 6x_3 \\\\\n",
        "  x_2 - 3x_3 \\\\\n",
        "  x_1 - 3x_3 \\\\\n",
        "  \\end{bmatrix}$\n",
        "\n",
        ">$T(3,-2,4)  =  \n",
        "  \\begin{bmatrix}\n",
        "  3 - 3 (4) \\\\\n",
        "  3 + (-2) - 6(4) \\\\\n",
        "  -2 - 3(4) \\\\\n",
        "  3 - 3(4) \\\\\n",
        "  \\end{bmatrix}$\n",
        "\n",
        ">**Final Answer**\n",
        ">>> $T(3,-2,4)  =  \n",
        "  \\begin{bmatrix}\n",
        "  -9 \\\\\n",
        "  -23 \\\\\n",
        "  -14 \\\\\n",
        "  -9 \\\\\n",
        "   \\end{bmatrix}$"
      ],
      "metadata": {
        "id": "nBCQL-VbE6Nw"
      }
    },
    {
      "cell_type": "markdown",
      "source": [
        "3) Is $\\ T$ linear? Why ?"
      ],
      "metadata": {
        "id": "YtcEV5PAFQrj"
      }
    },
    {
      "cell_type": "markdown",
      "source": [
        "*answer* :\n",
        "\n",
        "  **For T be linear it should satisfy the following properties**  - \n",
        ">>\n",
        "1.   $T ( \\overrightarrow x + \\overrightarrow  y ) = T \\overrightarrow x + T \\overrightarrow y $\n",
        "2.   $T ( c \\overrightarrow x  ) = c (T \\overrightarrow x )  $ .. Where c is a scalar multiple\n",
        "\n",
        "---\n",
        " *To prove property 1)*\n",
        " \n",
        " >Let,\n",
        " $ \\overrightarrow x = \\begin{bmatrix} \n",
        " x_1 \\\\\n",
        " x_2 \\\\\n",
        " x_3 \\\\\n",
        " \\end{bmatrix}$\n",
        ",\n",
        "$ \\overrightarrow y = \\begin{bmatrix} \n",
        " y_1 \\\\\n",
        " y_2 \\\\\n",
        " y_3 \\\\\n",
        " \\end{bmatrix}$\n",
        "\n",
        ">Computing, \n",
        ">>$T \\overrightarrow x = \n",
        "T \\begin{bmatrix} \n",
        " x_1 \\\\\n",
        " x_2 \\\\\n",
        " x_3 \\\\\n",
        " \\end{bmatrix}$\n",
        "\n",
        ">>$T \\overrightarrow x =  \\begin{bmatrix}\n",
        "x_1 - 3x_3 \\\\\n",
        "x_1 + x_2 - 6x_3 \\\\\n",
        "x_2 - 3x_3 \\\\\n",
        "x_1 - 3x_3 \\\\\n",
        "\\end{bmatrix}$  ... **eq(1)**\n",
        "\n",
        ">Similarly,\n",
        "\n",
        ">>$T \\overrightarrow y =\n",
        "T \\begin{bmatrix} \n",
        " y_1 \\\\\n",
        " y_2 \\\\\n",
        " y_3 \\\\\n",
        " \\end{bmatrix}$\n",
        "\n",
        ">>$T \\overrightarrow y =\n",
        "\\begin{bmatrix}\n",
        "y_1 - 3y_3 \\\\\n",
        "y_1 + y_2 - 6y_3 \\\\\n",
        "y_2 - 3y_3 \\\\\n",
        "y_1 - 3y_3 \\\\\n",
        "\\end{bmatrix}$     ... **eq(2)**\n",
        "\n",
        "Therefore, RHS should be\n",
        "\n",
        ">$= T \\overrightarrow x + T \\overrightarrow y$ \n",
        "\n",
        ">$= \\begin{bmatrix}\n",
        "x_1 - 3x_3 \\\\\n",
        "x_1 + x_2 - 6x_3 \\\\\n",
        "x_2 - 3x_3 \\\\\n",
        "x_1 - 3x_3 \\\\\n",
        "\\end{bmatrix}\n",
        "+\n",
        "\\begin{bmatrix}\n",
        "y_1 - 3y_3 \\\\\n",
        "y_1 + y_2 - 6y_3 \\\\\n",
        "y_2 - 3y_3 \\\\\n",
        "y_1 - 3y_3 \\\\\n",
        "\\end{bmatrix}$  ... **From eq (1) and eq (2)**\n",
        "\n",
        ">$T \\overrightarrow x + T \\overrightarrow y = \n",
        "\\begin{bmatrix}\n",
        "x_1 - 3x_3 + y_1 - 3y_3\\\\\n",
        "x_1 + x_2 - 6x_3 + y_1 + y_2 - 6y_3 \\\\\n",
        "x_2 - 3x_3 + y_2 - 3y_3 \\\\\n",
        "x_1 - 3x_3 + y_1 - 3y_3 \\\\\n",
        "\\end{bmatrix}$\n",
        "\n",
        ">$T \\overrightarrow x + T \\overrightarrow y = \n",
        "\\begin{bmatrix}\n",
        "(x_1 + y_1) - 3(x_3  + y_3)\\\\\n",
        "(x_1 + y_1) + (x_2 + y_2) - 6 (x_3  + y_3) \\\\\n",
        "(x_2 + y_2) - 3 (x_3 + y_3) \\\\\n",
        "(x_1 + y_1) - 3 (x_3 + y_3) \\\\\n",
        "\\end{bmatrix}$.   .... **eq(3)**\n",
        "\n",
        "\n",
        "Computing LHS,\n",
        "\n",
        ">$ =  T ( \\overrightarrow x + \\overrightarrow  y ) $\n",
        "\n",
        ">$ =  T \n",
        "  \\begin{bmatrix}\n",
        " x_1 \\\\\n",
        " x_2 \\\\\n",
        " x_3 \\\\\n",
        "\\end{bmatrix} \n",
        "+ \n",
        "\\begin{bmatrix}\n",
        " y_1 \\\\\n",
        " y_2 \\\\\n",
        " y_3 \\\\\n",
        "\\end{bmatrix} $\n",
        "\n",
        ">$ = T\n",
        "   \\begin{bmatrix}\n",
        "   x_1 + y_1  \\\\\n",
        "   x_2 + y_2 \\\\\n",
        "  x_3 + y_3 \\\\\n",
        "  \\end{bmatrix}$\n",
        "\n",
        ">$ = \n",
        " \\begin{bmatrix}\n",
        "   (x_1 + y_1) - 3 (x_3 + y_3)  \\\\\n",
        "   (x_1 + y_1) + (x_2 + y_2) - 6(x_3 + y_3) \\\\\n",
        "  (x_2 + y_2) -3(x_3 + y_3) \\\\\n",
        "  (x_1 + y_1) - 3(x_3 + y_3) \\\\\n",
        "  \\end{bmatrix}$.  ... **eq(4)**\n",
        "\n",
        "  *Comparing eq(3) and eq(4)*,\n",
        "  >>**LHS = RHS**\n",
        "\n",
        "  >>**Hence property 1) proved**\n",
        "\n",
        " *To prove property 2)*\n",
        " >Let,\n",
        " $ \\overrightarrow x = \\begin{bmatrix} \n",
        " x_1 \\\\\n",
        " x_2 \\\\\n",
        " x_3 \\\\\n",
        " \\end{bmatrix}$\n",
        "\n",
        " >Multiplying above vector x with scalar multiple c,\n",
        "\n",
        ">$ c \\overrightarrow x \n",
        "= c\n",
        "\\begin{bmatrix} \n",
        " x_1 \\\\\n",
        " x_2 \\\\\n",
        " x_3 \\\\\n",
        " \\end{bmatrix}\n",
        "=\n",
        "\\begin{bmatrix} \n",
        " cx_1 \\\\\n",
        " cx_2 \\\\\n",
        " cx_3 \\\\\n",
        " \\end{bmatrix}$\n",
        "\n",
        " >Computing,\n",
        "\n",
        " >$T ( c \\overrightarrow x  ) \n",
        " =\n",
        " T \n",
        " \\begin{bmatrix} \n",
        " cx_1 \\\\\n",
        " cx_2 \\\\\n",
        " cx_3 \\\\\n",
        " \\end{bmatrix}$\n",
        " \n",
        ">>>$ =\n",
        " \\begin{bmatrix}\n",
        "  cx_1 - 3cx_3 \\\\\n",
        "  cx_1 + cx_2 - 6cx_3 \\\\\n",
        "  cx_2 - 3cx_3 \\\\\n",
        "  cx_1 - 3cx_3 \\\\\n",
        "  \\end{bmatrix}\n",
        "$\n",
        "\n",
        " $\n",
        " =\n",
        " c\n",
        " \\begin{bmatrix}\n",
        "x_1 - 3x_3 \\\\\n",
        "x_1 + x_2 - 6x_3 \\\\\n",
        "x_2 - 3x_3 \\\\\n",
        "x_1 - 3x_3 \\\\\n",
        "\\end{bmatrix}\n",
        " $\n",
        "\n",
        " $T \n",
        " \\begin{bmatrix} \n",
        " cx_1 \\\\\n",
        " cx_2 \\\\\n",
        " cx_3 \\\\\n",
        " \\end{bmatrix}\n",
        " =\n",
        "c (T \\overrightarrow x)$\n",
        "\n",
        "Therefore,\n",
        "\n",
        "$T ( c \\overrightarrow x  ) = c (T \\overrightarrow x )  $ .. Where c is a scalar multiple.\n",
        " **Hence characteristic 2) proved**\n",
        "\n",
        " **Hence $T$ is linear**"
      ],
      "metadata": {
        "id": "eR-jjYPxFXqY"
      }
    },
    {
      "cell_type": "markdown",
      "source": [
        "### Problem 2\n",
        "--------------\n",
        "\n",
        "Consider the following function of $x = (x1, x2, x3, x4, x5, x6)$:\n",
        "\n",
        "$$\n",
        "f(x) = \\sigma \\Big(\\log \\Big(5  \\Big(max\\{x_1, x_2\\}.\\frac{x_3}{x_4} - (x_5+x_6) \\Big) \\Big) + \\frac{1}{2} \\Big)\n",
        "$$\n",
        "\n",
        "where $\\sigma$ is the sigmoid function\n",
        "\n",
        "$$\n",
        "  \\sigma(x) = \\frac{1}{1+e^{-x}}\n",
        "$$\n",
        "\n",
        "Compute the gradient $\\nabla_x f$ and evaluate it at $x = (-1, 3, 4, 5, -5, 7)$"
      ],
      "metadata": {
        "id": "Sb0w8cl1FhqG"
      }
    },
    {
      "cell_type": "markdown",
      "source": [
        "*answer* :\n",
        "\n",
        "Given:\n",
        "\n",
        "$$\n",
        "f(x) = \\sigma \\Big(\\log \\Big(5  \\Big(max\\{x_1, x_2\\}.\\frac{x_3}{x_4} - (x_5+x_6) \\Big) \\Big) + \\frac{1}{2} \\Big)\n",
        "$$\n",
        "\n",
        "where,\n",
        "\n",
        "$$\n",
        "  \\sigma(x) = \\frac{1}{1+e^{-x}}\n",
        "$$\n",
        "\n",
        "Let,\n",
        "\n",
        "$$ p = max\\{x_1, x_2\\}.\\frac{x_3}{x_4} - (x_5+x_6)$$\n",
        "\n",
        "$$ s= log (5p) + \\frac {1}{2}$$\n",
        "\n",
        "\n",
        "*Therefore,* $$f(x) = \\sigma (s)$$\n",
        "\n",
        "$$\\nabla_x f =\\frac{\\partial (\\sigma (s))}{\\partial s}. \\frac {\\partial s}{\\partial x}$$\n",
        "\n",
        "$$\\nabla_x f = \\sigma (s) \\Big(1- \\sigma (s)\\Big) .\\frac{\\partial \\Big(log (5p) + \\frac {1}{2}\\Big)}{\\partial p} . \\frac {\\partial p}{\\partial x}$$\n",
        "\n",
        "$$\\nabla_x f = \\frac {\\sigma (s) \\Big(1- \\sigma (s)\\Big) }{p}  . \\frac {\\partial p}{\\partial x}$$\n",
        "\n",
        "*To compute* $ \\frac {\\partial p}{\\partial x}$,\n",
        "where,\n",
        "$$ p = max\\{x_1, x_2\\}.\\frac{x_3}{x_4} - (x_5+x_6)$$\n",
        "\n",
        "**Since we will be calculating x at the point $x = (-1, 3, 4, 5, -5, 7); x_1 < x_2 $**\n",
        "*Therefore,*\n",
        "$$ \\frac {\\partial p}{\\partial x_1} = 0 $$\n",
        "$$ \\frac {\\partial p}{\\partial x_2} = \\frac {x_3}{x_4} $$\n",
        "$$ \\frac {\\partial p}{\\partial x_3} = \\frac {max\\{x_1, x_2\\}}{x_4} $$\n",
        "$$ \\frac {\\partial p}{\\partial x_4} = max\\{x_1, x_2\\}.x_3.\\frac {-1}{x_4^2} $$\n",
        "$$ \\frac {\\partial p}{\\partial x_5} = -1 $$\n",
        "$$ \\frac {\\partial p}{\\partial x_6} = -1 $$\n",
        "\n",
        "\n",
        "*Combining all the equations and substituting  we get,  $x = (-1, 3, 4, 5, -5, 7)$*\n",
        "$$ \\frac {\\partial s}{\\partial x_1} = \\frac {\\sigma (s) \\Big(1- \\sigma (s)\\Big) }{p}  .0 = 0 $$\n",
        "\n",
        "\n",
        "$$ \\frac {\\partial s}{\\partial x_2} = \\frac {\\sigma (s) \\Big(1- \\sigma (s)\\Big) }{max\\{-1, 3\\}.\\frac{4}{5} - (-5+7)}  .\\frac {4}{5} $$\n",
        "\n",
        "$$ \\frac {\\partial s}{\\partial x_2} =  \\frac {\\sigma (s) \\Big(1- \\sigma (s)\\Big) }{\\frac{2}{5}}  .\\frac {4}{5} =  \\sigma (s) \\Big(1- \\sigma (s)\\Big) . 2 = 2 (0.1785489) = 0.357097$$\n",
        "\n",
        "\n",
        "$$ \\frac {\\partial s}{\\partial x_3} = \\frac {\\sigma (s) \\Big(1- \\sigma (s)\\Big) }{p} . \\frac {max\\{-1, 3\\}}{5} = \\frac{0.1785489} {\\frac{2}{5}} .  \\frac {3}{5} =  0.26782327$$\n",
        "\n",
        "\n",
        "$$ \\frac {\\partial s}{\\partial x_4} = \\frac {\\sigma (s) \\Big(1- \\sigma (s)\\Big) }{p} .max\\{x_1, x_2\\}.x_3.\\frac {-1}{x_4^2} $$\n",
        "$$ \\frac {\\partial s}{\\partial x_4} = \\frac{0.1785489} {\\frac{2}{5}} . max\\{-1, 3\\} . 4 = -0.21426 $$\n",
        "\n",
        "\n",
        "$$ \\frac {\\partial s}{\\partial x_5} = \\frac {\\sigma (s) \\Big(1- \\sigma (s)\\Big) }{p} . -1  = -0.446327$$\n",
        "\n",
        "\n",
        "$$ \\frac {\\partial s}{\\partial x_6} = = \\frac {\\sigma (s) \\Big(1- \\sigma (s)\\Big) }{p} . -1  = -0.446327$$ $$\n",
        "\n",
        "\n",
        "Where,\n",
        "\n",
        "$$ \\sigma (s) \\Big(1- \\sigma (s) \\Big)= 0.1785489$$\n",
        "\n",
        "\n",
        "\n",
        "**Final Answer**\n",
        "$$ \\Big[ 0, 0.357097, 0.26782327, −0.21426, −0.446327, −0.446327 \\Big]$$\n"
      ],
      "metadata": {
        "id": "xiqJ5588IQy0"
      }
    },
    {
      "cell_type": "markdown",
      "source": [
        "### Problem 3\n",
        "-------------"
      ],
      "metadata": {
        "id": "0WLNOvtEIXyZ"
      }
    },
    {
      "cell_type": "markdown",
      "source": [
        "$a = [2, 6, 1, 9, 10, 3, 27, 5, 7, 14, 24, 3]$\n",
        "\n",
        "Get all items in range $(5, 10]$ from $a$\n",
        "\n",
        "Note: Use only indexing methods, do not use iteration or if conditions"
      ],
      "metadata": {
        "id": "XiFdZ9UAJFLa"
      }
    },
    {
      "cell_type": "code",
      "source": [
        "import numpy as np\n",
        "## write your code under this line:\n",
        "#----------------------------------\n",
        "a = np.array([2,6,1,9,10,3,27,5,7,14,24,3])\n",
        "a_mask = np.array(np.where((a>5) & (a<=10), 1,0), dtype=bool)\n",
        "a[a_mask]"
      ],
      "metadata": {
        "id": "Vb2kvO7iJNb2",
        "colab": {
          "base_uri": "https://localhost:8080/"
        },
        "outputId": "46a7ec0e-e8b9-4d1a-870e-b9a7dba136f1"
      },
      "execution_count": null,
      "outputs": [
        {
          "output_type": "execute_result",
          "data": {
            "text/plain": [
              "array([ 6,  9, 10,  7])"
            ]
          },
          "metadata": {},
          "execution_count": 3
        }
      ]
    },
    {
      "cell_type": "markdown",
      "source": [
        "### Problem 4\n",
        "--------------\n",
        "\n",
        "Let \n",
        "\n",
        "$$x = [3, 4, 5]$$\n",
        "\n",
        "\n",
        "$$W = \\begin{bmatrix} 1 & 5 & 3 \\\\ 2 & 5 & 5 \\\\5 & 5 &1 \\end{bmatrix}$$\n",
        "\n",
        "Compute\n"
      ],
      "metadata": {
        "id": "1PSNy_wOKNx1"
      }
    },
    {
      "cell_type": "markdown",
      "source": [
        "1) $x^T$"
      ],
      "metadata": {
        "id": "G9MqsESFMIwM"
      }
    },
    {
      "cell_type": "code",
      "source": [
        "## write your code under this line:\n",
        "#----------------------------------\n",
        "x = np.array([3,4,5])\n",
        "W = np.array([[1,5,3],[2,5,5],[5,5,1]])\n",
        "\n",
        "x_t = np.transpose(x)\n",
        "x_t"
      ],
      "metadata": {
        "id": "HwuNRK5ZKxuJ",
        "colab": {
          "base_uri": "https://localhost:8080/"
        },
        "outputId": "e4366769-1538-48ff-f472-54130e0f177b"
      },
      "execution_count": null,
      "outputs": [
        {
          "output_type": "execute_result",
          "data": {
            "text/plain": [
              "array([3, 4, 5])"
            ]
          },
          "metadata": {},
          "execution_count": 7
        }
      ]
    },
    {
      "cell_type": "markdown",
      "source": [
        "2) $z = Wx^T$"
      ],
      "metadata": {
        "id": "PS1L_4-fMlcq"
      }
    },
    {
      "cell_type": "code",
      "source": [
        "## write your code under this line:\n",
        "#----------------------------------\n",
        "z = np.matmul(W,x_t)\n",
        "z"
      ],
      "metadata": {
        "id": "tfVfn_AeMEz6",
        "colab": {
          "base_uri": "https://localhost:8080/"
        },
        "outputId": "a82c91c5-3571-497b-cd78-60cf26c32c80"
      },
      "execution_count": null,
      "outputs": [
        {
          "output_type": "execute_result",
          "data": {
            "text/plain": [
              "array([38, 51, 40])"
            ]
          },
          "metadata": {},
          "execution_count": 8
        }
      ]
    },
    {
      "cell_type": "markdown",
      "source": [
        "3) Write a function softmax:\n",
        "$$\n",
        "  softmax(x)_i = \\frac{e^{x_i}}{\\sum_j e^{x_j}}\n",
        "$$\n"
      ],
      "metadata": {
        "id": "P7gytEuzM9wm"
      }
    },
    {
      "cell_type": "code",
      "source": [
        "def softmax(x):\n",
        "  # x is a numpy array of length 3\n",
        "  ## write your code under this line:\n",
        "  #----------------------------------\n",
        "  res = np.exp(x)/np.exp(x).sum()\n",
        "  return res  # return correct result\n",
        "\n",
        "\n"
      ],
      "metadata": {
        "id": "AdrEij6EMFr5"
      },
      "execution_count": null,
      "outputs": []
    },
    {
      "cell_type": "markdown",
      "source": [
        "compute $softmax(z)$ :"
      ],
      "metadata": {
        "id": "ABBYBoNTOdek"
      }
    },
    {
      "cell_type": "code",
      "source": [
        "## write your code under this line:\n",
        "#----------------------------------\n",
        "softmax(z)"
      ],
      "metadata": {
        "id": "a58yF-4zOgHp",
        "colab": {
          "base_uri": "https://localhost:8080/"
        },
        "outputId": "89f1dd3d-2859-4a1f-8364-c93c3a908d62"
      },
      "execution_count": null,
      "outputs": [
        {
          "output_type": "execute_result",
          "data": {
            "text/plain": [
              "array([2.26028655e-06, 9.99981038e-01, 1.67013841e-05])"
            ]
          },
          "metadata": {},
          "execution_count": 10
        }
      ]
    },
    {
      "cell_type": "markdown",
      "source": [
        "----------------------------"
      ],
      "metadata": {
        "id": "-7ktHv4MOkwn"
      }
    }
  ]
}